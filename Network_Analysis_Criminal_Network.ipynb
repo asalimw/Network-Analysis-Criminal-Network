{
  "nbformat": 4,
  "nbformat_minor": 0,
  "metadata": {
    "colab": {
      "name": "Network Analysis - Criminal Network.ipynb",
      "provenance": [],
      "authorship_tag": "ABX9TyN7ED1G+jW0JPqulLM8zCV4",
      "include_colab_link": true
    },
    "kernelspec": {
      "name": "python3",
      "display_name": "Python 3"
    },
    "language_info": {
      "name": "python"
    }
  },
  "cells": [
    {
      "cell_type": "markdown",
      "metadata": {
        "id": "view-in-github",
        "colab_type": "text"
      },
      "source": [
        "<a href=\"https://colab.research.google.com/github/asalimw/Network-Analysis-Criminal-Network/blob/main/Network_Analysis_Criminal_Network.ipynb\" target=\"_parent\"><img src=\"https://colab.research.google.com/assets/colab-badge.svg\" alt=\"Open In Colab\"/></a>"
      ]
    },
    {
      "cell_type": "markdown",
      "metadata": {
        "id": "NCpltdQ7pked"
      },
      "source": [
        "# **Investigating a time-varying criminal network**\n",
        "\n",
        "A time-varying criminal network that is repeatedly disturbed by police forces. The data for this problem can be found in the CAVIAR directory of the data archive.\n",
        "\n",
        "The CAVIAR investigation lasted two years and ran from 1994 to 1996. The operation brought together investigation units of the Montréal police and the Royal Canadian Mounted Police of Canada. During this two year period, 11 wiretap warrants, valid for a period of about two months each, were obtained (the 11 matrices contained in phase1.csv, phase2.csv,  correspond to these eleven, two month wiretap phases).\n",
        "\n",
        "This case is interesting because, unlike other investigative strategies, the mandate of the CAVIAR project was to seize the drugs without arresting the perpetrators. During this period, imports of the trafficking network were hit by the police on eleven occasions. The arrests took place only at the end of the investigation. Monetary losses for traffickers were estimated at  million dollars. Eleven seizures took place throughout the investigation. Some phases included no seizures, and others included multiple. The following summarizes the  seizures:\n",
        "\n",
        "Phase 4\t1 seizure\t$2,500,000\t300 kg of marijuana\n",
        "Phase 6\t3 seizures\t$1,300,000\t2 x 15 kg of marijuana + 1 x 2 kg of cocaine\n",
        "Phase 7\t1 seizure\t$3,500,000\t401 kg of marijuana\n",
        "Phase 8\t1 seizure\t$360,000\t9 kg of cocaine\n",
        "Phase 9\t2 seizures\t$4,300,000\t2 kg of cocaine + 1 x 500 kg marijuana\n",
        "Phase 10\t1 seizure\t$18,700,000\t2200 kg of marijuana\n",
        "Phase 11\t2 seizures\t$1,300,000\t12 kg of cocaine + 11 kg of cocaine\n",
        "This case offers a rare opportunity to study a criminal network in upheaval from police forces. This allows us to analyze changes in the network structure and to survey the reaction and adaptation of the participants while they were subjected to an increasing number of distressing constraints.\n",
        "\n",
        "The network consists of 110 (numbered) players. Players 1-82 are the traffickers. Players 83-110 are the non-traffickers (financial investors; accountants; owners of various importation businesses, etc.). Initially, the investigation targeted Daniel Serero, the alleged mastermind of a drug network in downtown Montréal, who attempted to import marijuana to Canada from Morocco, transiting through Spain. After the first seizure, happening in Phase 4, traffickers reoriented to cocaine import from Colombia, transiting through the United States.\n",
        "\n",
        "According to the police, the role of 23 of the players in the “Serero organization\" are the following, listed by name (unique id):\n",
        "\n",
        "Daniel Serero (n1) : Mastermind of the network.\n",
        "\n",
        "Pierre Perlini (n3) : Principal lieutenant of Serero, he executes Serero's instructions.\n",
        "\n",
        "Alain (n83) and Gérard (n86) Levy : Investors and transporters of money.\n",
        "\n",
        "Wallace Lee (n85) : Takes care of financial affairs (accountant).\n",
        "\n",
        "Gaspard Lino (n6): Broker in Spain.\n",
        "\n",
        "Samir Rabbat (n11): Provider in Morocco.\n",
        "\n",
        "Lee Gilbert (n88): Trusted man of Wallace Lee (became an informer after the arrest).\n",
        "\n",
        "Beverly Ashton (n106): Spouse of Lino, transports money and documents.\n",
        "\n",
        "Antonio Iannacci (n89): Investor.\n",
        "\n",
        "Mohammed Echouafni (n84): Moroccan investor.\n",
        "\n",
        "Richard Gleeson (n5), Bruno de Quinzio (n8) and Gabrielle Casale (n76) : Charged with recuperating the marijuana.\n",
        "\n",
        "Roderik Janouska (n77): Individual with airport contacts.\n",
        "\n",
        "Patrick Lee (n87): Investor.\n",
        "\n",
        "Salvatore Panetta (n82): Transport arrangements manager.\n",
        "\n",
        "Steve Cunha (n96): Transport manager, owner of a legitimate import company (became an informer after the arrest).\n",
        "\n",
        "Ernesto Morales (n12): Principal organizer of the cocaine import, intermediary between the Colombians and the Serero organization.\n",
        "\n",
        "Oscar Nieri (n17): The handyman of Morales.\n",
        "\n",
        "Richard Brebner (n80): Was transporting the cocaine from the US to Montréal.\n",
        "\n",
        "Ricardo Negrinotti (n33): Was taking possession of the cocaine in the US to hand it to Brebner.\n",
        "\n",
        "Johnny Pacheco (n16): Cocaine provider.\n",
        "\n",
        "In the data files (phase1.csv, phase2.csv, ), you will find matrices that report the number of wiretapped correspondences between the above players in the network, where players are identified by their unique id. You will be analyzing this time-varying network, giving a rough sketch of its shape, its evolution and the role of the actors in it.\n",
        "\n",
        "Paper:https://www.researchgate.net/publication/292304919_Modeling_Verdict_Outcomes_Using_Social_Network_Measures_The_Watergate_and_Caviar_Network_Cases"
      ]
    },
    {
      "cell_type": "code",
      "metadata": {
        "id": "__In1yx9HgK5"
      },
      "source": [
        "import numpy as np \n",
        "import networkx as nx\n",
        "import pandas as pd\n",
        "\n",
        "from itertools import permutations, combinations\n",
        "\n",
        "phases = {}\n",
        "G = {}\n",
        "for i in range(1,12): \n",
        "    var_name = \"phase\" + str(i)\n",
        "    file_name = \"https://raw.githubusercontent.com/ragini30/Networks-Homework/main/\" + var_name + \".csv\"\n",
        "    phases[i] = pd.read_csv(file_name, index_col = [\"players\"])\n",
        "    phases[i].columns = \"n\" + phases[i].columns\n",
        "    phases[i].index = phases[i].columns\n",
        "    G[i] = nx.from_pandas_adjacency(phases[i])\n",
        "    G[i].name = var_name\n",
        "\n",
        "# this code also renames the actors from integer identifiers to strings of the \n",
        "# kind “n1\", “n2\" etc, to be more consistent with notation. It then creates \n",
        "# networkx graphs from the matrices and stores them in the G dictionary by \n",
        "# their phase number."
      ],
      "execution_count": null,
      "outputs": []
    },
    {
      "cell_type": "code",
      "metadata": {
        "colab": {
          "base_uri": "https://localhost:8080/"
        },
        "id": "ALTi6x6uIWJa",
        "outputId": "8ad0ca80-5819-475a-f37d-311dad8453bf"
      },
      "source": [
        "# https://realpython.com/pandas-python-explore-dataset/\n",
        "# https://www.geeksforgeeks.org/python-dictionary/\n",
        "# https://realpython.com/python-dicts/\n",
        "\n",
        "len(phases)\n",
        "print(phases)"
      ],
      "execution_count": null,
      "outputs": [
        {
          "output_type": "stream",
          "name": "stdout",
          "text": [
            "{1:      n1  n4  n89  n83  n3  n5  n88  n85  n90  n2  n7  n54  n6  n64  n8\n",
            "n1    0   1    4    0   4   2    2    9    1   2   0    2   0    1   1\n",
            "n4    0   0    0    0   0   0    0    0    0   0   0    0   0    0   0\n",
            "n89   1   0    0    0   0   0    0    0    0   0   3    0   0    0   0\n",
            "n83   1   0    0    0   0   0    0    0    0   0   0    0   5    0   0\n",
            "n3    2   0    0    0   0   0    1    0    0   0   0    0   0    0   0\n",
            "n5    0   0    0    0   0   0    0    0    0   0   0    0   0    0   0\n",
            "n88   1   0    0    0   1   0    0    3    0   0   0    0   1    0   0\n",
            "n85   1   0    0    0   0   0    2    0    0   0   0    0   5    0   0\n",
            "n90   0   0    0    0   0   0    0    0    0   0   0    0   0    0   0\n",
            "n2    0   0    0    0   0   0    0    0    0   0   0    0   0    0   0\n",
            "n7    0   0    2    0   0   0    0    0    0   0   0    0   0    0   0\n",
            "n54   0   0    0    0   0   0    0    0    0   0   0    0   0    0   0\n",
            "n6    0   0    0    0   0   0    1    0    0   0   0    0   0    0   0\n",
            "n64   0   0    0    0   0   0    0    0    0   0   0    0   0    0   0\n",
            "n8    0   0    0    0   0   0    0    0    0   0   0    0   0    0   0, 2:      n1  n89  n83  n3  n5  n88  n85  n90  ...  n56  n97  n47  n98  n76  n9  n11  n12\n",
            "n1    0    6    8  31   5    1    0    3  ...    1    2    1    1    4   5    0    0\n",
            "n89   0    0    0   0   0    0    0    0  ...    0    0    0    0    0   0    1    0\n",
            "n83   0    0    0   0   0    0    0    0  ...    0    0    0    0    0   0    0    0\n",
            "n3    0    0    0   0   0    0    0    0  ...    0    0    0    0    0   0    0    0\n",
            "n5    0    0    0   0   0    0    0    0  ...    0    0    0    0    0   0    0    0\n",
            "n88   1    0    0   0   0    0    0    0  ...    0    0    0    0    0   0    1    0\n",
            "n85   0    0    0   0   0    1    0    0  ...    0    0    0    0    1   0    0    0\n",
            "n90   0    0    0   0   0    0    0    0  ...    0    0    0    0    0   0    0    0\n",
            "n86   1    0    0   0   0    0    0    0  ...    0    0    0    0    0   0    0    0\n",
            "n2    5    0    0   0   0    0    0    0  ...    0    0    0    0    0   0    0    0\n",
            "n7    0    1    0   0   0    0    0    0  ...    0    0    0    0    0   0    0    0\n",
            "n6    0    0    1   0   0    0    0    0  ...    0    0    0    0    0   0    0    0\n",
            "n64   0    0    0   0   0    0    0    0  ...    0    0    0    0    0   0    0    0\n",
            "n8    5    0    0   0   0    0    0    0  ...    0    0    0    0    0   0    0    0\n",
            "n55   1    0    0   0   0    0    0    0  ...    0    0    0    0    0   0    0    0\n",
            "n10   0    0    0   0   0    0    0    0  ...    0    0    0    0    0   0    0    0\n",
            "n56   0    0    0   0   0    0    0    0  ...    0    0    0    0    0   0    0    0\n",
            "n97   0    0    0   0   0    0    0    0  ...    0    0    0    0    0   0    0    0\n",
            "n47   1    0    0   0   0    0    0    0  ...    0    0    0    0    0   0    0    0\n",
            "n98   1    0    0   0   0    0    0    0  ...    0    0    0    0    0   0    0    0\n",
            "n76   0    0    0   0   0    0    0    0  ...    0    0    0    0    0   0    0    0\n",
            "n9    0    0    0   0   0    0    0    0  ...    0    0    0    0    0   0    0    0\n",
            "n11   0    0    0   0   0    0    0    0  ...    0    0    0    0    0   0    0    0\n",
            "n12   2    0    0   0   0    0    0    0  ...    0    0    0    0    0   0    0    0\n",
            "\n",
            "[24 rows x 24 columns], 3:       n1  n4  n89  n83  n3  n5  n48  ...  n107  n50  n99  n13  n51  n12  n52\n",
            "n1     0   0    7   38  29   7    2  ...     0    3    0    2    0    2    1\n",
            "n4     0   0    0    0   0   1    0  ...     0    0    0    0    0    0    0\n",
            "n89    0   0    0    0   0   0    0  ...     0    0    0    0    0    0    0\n",
            "n83    4   0    0    0   0   0    0  ...     3    0    0    0    0    0    2\n",
            "n3     1   0    0    0   0   0    0  ...     0    0    1    0    0    2    0\n",
            "n5     0   0    0    0   0   0    0  ...     0    0    0    0    0    0    0\n",
            "n48    0   0    0    0   0   0    0  ...     0    0    0    0    0    0    0\n",
            "n88    0   0    0    0   0   0    0  ...     0    0    0    0    0    0    0\n",
            "n85    0   0    0    0   0   0    0  ...     0    0    0    0    0    0    0\n",
            "n90    0   0    0    0   0   0    0  ...     0    0    0    0    0    0    0\n",
            "n86    3   0    0    2   1   0    0  ...     1    0    0    0    0    0    0\n",
            "n2     0   0    0    0   0   0    0  ...     0    0    0    0    0    0    0\n",
            "n7     0   0    0    0   0   0    0  ...     0    0    0    0    0    0    0\n",
            "n6     3   0    0    0   1   0    0  ...     0    0    0    0    0    0    0\n",
            "n8     0   0    0    0   0   0    0  ...     0    0    0    0    0    0    0\n",
            "n55    0   0    0    0   0   0    0  ...     0    0    0    0    0    0    0\n",
            "n10    0   0    0    0   0   0    0  ...     0    0    0    0    0    0    0\n",
            "n56    0   0    0    0   0   0    0  ...     0    0    0    0    0    0    0\n",
            "n76    1   0    0    0   0   0    0  ...     0    0    0    0    0    0    0\n",
            "n9     1   0    0    0   0   0    0  ...     0    0    0    0    0    0    0\n",
            "n34    0   0    0    0   0   0    0  ...     0    0    0    0    0    0    0\n",
            "n35    0   0    0    0   0   0    0  ...     0    0    0    0    0    0    0\n",
            "n11    6   0    0    0   1   0    0  ...     0    0    0    0    0    0    0\n",
            "n32    0   0    0    0   0   0    0  ...     0    0    0    0    0    0    0\n",
            "n84    4   0    0    0   0   0    0  ...     0    0    0    0    0    0    2\n",
            "n49    2   0    0    3   1   0    0  ...     0    0    0    0    0    0    0\n",
            "n107   0   0    0    0   0   0    0  ...     0    0    0    0    0    0    0\n",
            "n50    1   0    0    0   0   0    0  ...     0    0    0    0    0    0    0\n",
            "n99    0   0    0    0   1   0    0  ...     0    0    0    0    0    0    0\n",
            "n13    0   0    0    0   0   0    0  ...     0    0    0    0    0    0    0\n",
            "n51    0   0    0    0   0   0    0  ...     0    0    0    0    0    0    0\n",
            "n12    0   0    0    0   0   0    0  ...     0    0    0    0    0    0    0\n",
            "n52    0   0    0    0   0   0    0  ...     0    0    0    0    0    0    0\n",
            "\n",
            "[33 rows x 33 columns], 4:       n1  n4  n89  n83  n3  n5  n88  ...  n109  n31  n12  n14  n52  n106  n15\n",
            "n1     0   1   12   17  71  16    7  ...     0    0    0    0    2     1    7\n",
            "n4     0   0    0    0   0   0    0  ...     0    0    0    0    0     0    0\n",
            "n89    1   0    0    0   0   0    0  ...     2    1    0    1    0     0    0\n",
            "n83    0   0    0    0   0   0    0  ...     0    0    0    0    2     1    0\n",
            "n3     9   0    0    0   0   0    0  ...     0    7    2    0    0     0    0\n",
            "n5     3   0    0    0   0   0    0  ...     0    0    0    0    0     0    0\n",
            "n88    0   0    0    0   0   0    0  ...     0    0    0    0    0     0    0\n",
            "n85    7   0    0    0   2   0    6  ...     0    0    0    0    0     0    0\n",
            "n90    1   0    0    0   1   0    0  ...     0    0    0    0    0     0    0\n",
            "n86    3   0    0    9   0   0    0  ...     0    0    0    0    0     0    0\n",
            "n2     3   0    0    0   0   0    0  ...     0    0    0    0    0     0    0\n",
            "n7     0   0    3    0   0   0    0  ...     0    0    0    0    0     0    0\n",
            "n6    15   0    0    0   0   0    0  ...     0    0    0    0    0     0    0\n",
            "n8     0   0    0    0   0   0    0  ...     0    0    0    0    0     0    0\n",
            "n47    0   0    0    0   0   0    0  ...     0    0    0    0    0     0    0\n",
            "n76    0   0    0    0   0   0    0  ...     0    0    0    0    0     0    0\n",
            "n9     0   0    0    0   0   0    0  ...     0    0    0    0    0     0    0\n",
            "n35    0   0    0    0   0   0    0  ...     0    0    0    0    0     0    0\n",
            "n11   29   0    0    0   0   0    0  ...     0    0    0    0    0     0    0\n",
            "n53    1   0    0    0   0   0    0  ...     0    0    0    0    0     0    0\n",
            "n84    1   0    0    1   0   0    0  ...     0    0    0    0    0     0    0\n",
            "n49    0   0    0    0   0   0    0  ...     0    0    0    0    0     0    0\n",
            "n107   0   0    0    0   0   0    0  ...     0    0    0    0    0     0    0\n",
            "n13    0   0    0    0   0   0    0  ...     0    0    0    0    0     0    0\n",
            "n51    0   0    0    0   0   0    0  ...     0    0    0    0    0     0    0\n",
            "n63    0   0    0    0   0   0    0  ...     0    0    0    0    0     0    0\n",
            "n109   0   0    0    0   0   0    0  ...     0    0    0    0    0     0    0\n",
            "n31    0   0    0    0   0   0    0  ...     0    0    0    0    0     0    0\n",
            "n12    0   0    0    0   1   0    0  ...     0    0    0    0    0     0    0\n",
            "n14    0   0    0    0   0   0    0  ...     0    0    0    0    0     0    0\n",
            "n52    0   0    0    4   0   0    0  ...     0    0    0    0    0     0    0\n",
            "n106   0   0    0    0   0   0    0  ...     0    0    0    0    0     0    0\n",
            "n15    0   0    0    0   0   0    0  ...     0    0    0    0    0     0    0\n",
            "\n",
            "[33 rows x 33 columns], 5:       n1  n4  n89  n83  n3  n5  n88  ...  n100  n18  n17  n25  n82  n19  n15\n",
            "n1     0   3    2    2  26   3    0  ...     0    0    0    0    1    1    2\n",
            "n4     0   0    0    0   0   0    0  ...     0    0    0    0    0    0    0\n",
            "n89    0   0    0    0   0   0    0  ...     0    0    0    0    0    0    0\n",
            "n83    0   0    0    0   0   0    0  ...     0    0    0    0    0    0    0\n",
            "n3     1   0    0    0   0   0    0  ...     0    0    0    0    0    0    0\n",
            "n5     0   0    0    0   0   0    0  ...     0    0    0    0    0    0    0\n",
            "n88    0   0    0    0   0   0    0  ...     0    0    0    0    0    0    0\n",
            "n85    0   0    0    0   1   0    2  ...     0    0    0    0    0    0    0\n",
            "n86    0   0    0    2   0   0    0  ...     0    0    0    0    0    0    0\n",
            "n2     1   0    0    0   0   0    0  ...     0    0    0    0    0    0    0\n",
            "n7     0   0    1    0   0   0    0  ...     0    0    0    0    0    0    0\n",
            "n6    10   0    0    0   0   0    0  ...     0    0    0    0    0    0    0\n",
            "n8     0   0    0    0   0   1    0  ...     0    0    0    0    0    0    0\n",
            "n55    0   0    0    0   0   0    0  ...     0    0    0    0    0    0    0\n",
            "n47    0   0    0    0   0   0    0  ...     0    0    0    0    0    0    0\n",
            "n76    2   0    1    0   0   0    0  ...     0    0    0    0    0    0    0\n",
            "n9     0   0    0    0   0   0    0  ...     0    0    0    0    0    0    0\n",
            "n34    0   0    0    0   0   0    0  ...     0    0    0    0    0    0    0\n",
            "n11   19   0    0    0   0   0    0  ...     0    0    0    0    0    0    0\n",
            "n32    0   0    0    0   0   0    0  ...     0    0    0    0    0    0    0\n",
            "n84    2   0    0    0   0   0    0  ...     0    0    0    0    0    0    0\n",
            "n13    0   0    0    0   0   0    0  ...     0    0    0    0    0    0    0\n",
            "n31    3   0    0    0   0   0    0  ...     0    0    0    0    0    0    0\n",
            "n12    0   0    0    0   1   0    0  ...     0    1    0    1    0    0    0\n",
            "n108   4   0    0    0   0   0    0  ...     0    0    0    0    0    0    0\n",
            "n100   1   0    0    0   0   0    0  ...     0    0    0    0    0    0    0\n",
            "n18    0   0    0    0   0   0    0  ...     0    0    0    0    0    0    0\n",
            "n17    0   0    0    0   0   0    0  ...     0    0    0    0    0    0    0\n",
            "n25    0   0    0    0   0   0    0  ...     0    0    0    0    0    0    0\n",
            "n82    1   0    0    0   0   0    0  ...     0    0    0    0    0    0    0\n",
            "n19    1   0    0    0   0   0    0  ...     0    0    0    0    0    0    0\n",
            "n15    0   0    0    0   0   0    0  ...     0    0    0    0    0    0    0\n",
            "\n",
            "[32 rows x 32 columns], 6:      n1  n4  n83  n3  n5  n85  n2  n6  ...  n25  n82  n19  n78  n77  n87  n20  n15\n",
            "n1    0   1   12  29  14   21   8   0  ...    0    1   11    0    2    0    0    2\n",
            "n4    0   0    0   0   0    0   0   0  ...    0    0    0    0    0    0    0    0\n",
            "n83   1   0    0   0   0    0   0   0  ...    0    0    0    0    0    0    0    0\n",
            "n3   62   0    1   0   0    1   0   0  ...    0    0    0    0    1    0    0    0\n",
            "n5   61   0    0   3   0    0   0   0  ...    0    0    0    0    0    0    0    0\n",
            "n85   2   0    0   0   0    0   0   0  ...    0    0    0    0    0    0    0    0\n",
            "n2   10   0    0   2   0    0   0   0  ...    0    0    0    0    0    0    0    0\n",
            "n6    7   0    0   0   0    0   0   0  ...    0    0    0    0    0    0    0    0\n",
            "n8    2   0    0   0   0    0   0   0  ...    0    0    0    0    0    0    0    0\n",
            "n76  42   0    0   4   0    0   0   0  ...    0    0    1    3    0    0    0    0\n",
            "n9    0   0    0   0   0    0   0   0  ...    0    0    0    0    0    0    0    0\n",
            "n11  33   0    0   0   0    0   0   0  ...    0    0    0    0    0    0    8    0\n",
            "n84   2   0    0   0   0    1   0   0  ...    0    0    0    0    0    0    0    0\n",
            "n13   0   0    0   0   0    0   0   0  ...    0    0    0    0    0    0    0    0\n",
            "n31   0   0    0   0   0    0   0   0  ...    0    0    0    0    0    0    0    0\n",
            "n12   2   0    0  32   0    0   0   0  ...    3    0    0    0    0    0    0    0\n",
            "n14   0   0    0   0   0    0   0   0  ...    0    0    0    0    0    0    0    0\n",
            "n18   0   0    0   0   0    0   0   0  ...    0    0    0    0    0    0    0    0\n",
            "n17   0   0    0   0   0    0   0   0  ...    0    0    0    0    0    0    0    0\n",
            "n25   0   0    0   0   0    0   0   0  ...    0    0    0    0    0    0    0    0\n",
            "n82   1   0    0   0   0    0   0   0  ...    0    0    0    0    0    0    0    0\n",
            "n19  75   0    0   1   0    0   0   0  ...    0    0    0    0    0    0    0    0\n",
            "n78   0   0    0   0   0    0   0   0  ...    0    0    0    0    0    0    0    0\n",
            "n77   2   0    0   2   0    0   0   0  ...    0    0    0    0    0    0    0    0\n",
            "n87   3   0    0   1   0    0   0   0  ...    0    0    0    0    0    0    0    0\n",
            "n20  10   0    0   0   0    0   0   0  ...    0    0    0    0    0    0    0    0\n",
            "n15   1   0    0   1   0    0   0   0  ...    0    0    0    0    0    0    0    0\n",
            "\n",
            "[27 rows x 27 columns], 7:      n1  n4  n83  n3  n5  n88  n85  n62  ...  n69  n61  n68  n16  n75  n28  n81  n15\n",
            "n1    0   1    1  23   3    0    2    1  ...    0    0    0    0    0    1    1    0\n",
            "n4    0   0    0   0   0    0    0    0  ...    0    0    0    0    0    0    0    0\n",
            "n83   0   0    0   0   0    0    0    0  ...    0    0    0    0    0    0    0    0\n",
            "n3   65   0    4   0   0    1    4    0  ...    0    0    0    0    0    0    0    0\n",
            "n5    0   0    0   0   0    0    0    0  ...    0    0    0    0    0    0    0    0\n",
            "n88   0   0    0   0   0    0    0    0  ...    0    0    0    0    0    0    0    0\n",
            "n85   4   0    0   0   0    1    0    0  ...    0    0    0    0    0    0    0    0\n",
            "n62   0   0    0   0   0    0    0    0  ...    0    0    0    0    0    0    0    0\n",
            "n9    0   0    5   0   0    0    0    0  ...    0    0    0    0    0    0    0    0\n",
            "n2    6   0    0   0   0    0    0    0  ...    0    0    0    0    0    0    0    0\n",
            "n6    4   0    0   0   0    0    0    0  ...    0    0    0    0    0    0    0    0\n",
            "n8    0   0    0   0   0    0    0    0  ...    0    0    0    0    0    0    0    0\n",
            "n55   1   0    0   0   0    0    0    0  ...    0    0    0    0    0    0    0    0\n",
            "n76   4   0    0   0   0    0    0    0  ...    0    2    0    0    0    0    0    0\n",
            "n34   1   0    0   0   0    0    0    0  ...    0    0    0    0    0    0    0    0\n",
            "n11  29   0    0   0   0    0    0    0  ...    0    0    0    0    0    0    0    0\n",
            "n12   0   0    0   0   0    0    0    0  ...    0    0    0    0    0    0    0    0\n",
            "n14   0   0    0   0   0    0    0    0  ...    0    0    0    0    0    0    0    0\n",
            "n18   0   0    0   0   0    0    0    0  ...    0    0    0    0    0    0    0    0\n",
            "n17   0   0    0   0   0    0    0    0  ...    0    0    0    0    0    0    0    0\n",
            "n19  21   0    0   0   0    0    0    0  ...    0    0    0    0    0    0    0    0\n",
            "n78   0   0    0   0   0    0    0    0  ...    0    0    0    0    0    0    0    0\n",
            "n77  13   0    0   0   0    0    0    0  ...    0    0    0    0    0    0    0    0\n",
            "n87  15   0    0   2   0    0    0    0  ...    0    0    0    0    0    0    2    0\n",
            "n20   5   0    0   0   0    0    0    0  ...    0    0    0    0    0    0    0    0\n",
            "n22   0   0    0   0   0    0    0    0  ...    0    0    0    0    0    0    0    0\n",
            "n74   0   0    0   0   0    0    1    0  ...    0    0    0    0    0    0    0    0\n",
            "n79   0   0    0   0   0    0    0    0  ...    0    0    0    0    0    0    0    0\n",
            "n69  11   0    0   0   0    0    0    0  ...    0    0    0    0    0    0    0    0\n",
            "n61   0   0    0   0   0    0    0    0  ...    0    0    0    0    0    0    0    0\n",
            "n68  11   0    0   0   0    0    0    0  ...    0    0    0    0    0    0    0    0\n",
            "n16   0   0    0   0   0    0    0    0  ...    0    0    0    0    0    0    0    0\n",
            "n75   0   0    0   0   0    0    0    0  ...    0    0    0    0    0    0    0    0\n",
            "n28   0   0    0   0   0    0    0    0  ...    0    0    0    0    0    0    0    0\n",
            "n81   0   0    0   0   0    0    0    0  ...    0    0    0    0    0    0    0    0\n",
            "n15   1   0    0   0   0    0    0    0  ...    0    0    0    0    0    0    0    0\n",
            "\n",
            "[36 rows x 36 columns], 8:      n1  n4  n83  n3  n85  n86  n2  n6  ...  n39  n59  n37  n23  n33  n80  n91  n36\n",
            "n1    0   2    2  76   12    0   4   0  ...    0    0    0    0    0    0    0    0\n",
            "n4    1   0    0   0    0    0   0   0  ...    0    0    0    0    0    0    0    0\n",
            "n83   0   0    0   0    0    0   0   0  ...    0    0    0    0    0    0    0    0\n",
            "n3    6   0    0   0    4    1   0   0  ...    0    0    9    0    0    0    0    0\n",
            "n85   1   0    0   7    0    0   0   0  ...    0    0    0    0    0    0    0    0\n",
            "n86   0   0    0   0    0    0   0   0  ...    0    0    0    0    0    0    0    0\n",
            "n2    2   0    0   1    0    0   0   0  ...    0    0    0    0    0    0    0    0\n",
            "n6    1   0    0   0    0    0   0   0  ...    0    0    0    0    0    0    0    0\n",
            "n8    0   0    0   0    0    0   0   0  ...    0    0    0    0    0    0    0    0\n",
            "n76   1   0    0   1    0    0   0   0  ...    0    3    0    0    0    0    0    0\n",
            "n9    0   0    0   0    0    0   0   0  ...    0    0    0    0    0    0    0    0\n",
            "n34   0   0    0   0    0    0   1   0  ...    0    0    0    0    0    0    0    0\n",
            "n35   0   0    0   0    0    0   0   0  ...    0    0    0    0    0    0    0    0\n",
            "n11   0   0    0   1    0    0   0   0  ...    0    0    0    0    0    0    0    3\n",
            "n84   0   0    0   0    0    0   0   0  ...    0    0    0    0    0    0    0    0\n",
            "n13   0   0    0   0    0    0   0   0  ...    0    0    0    0    0    0    0    0\n",
            "n12   0   0    0   0    0    0   0   0  ...    0    0    0    1    0    0    0    0\n",
            "n14   1   0    0   1    0    0   0   0  ...    0    0    0    0    0    0    0    0\n",
            "n18   0   0    0   0    0    0   0   0  ...    0    0    0    0    0    0    0    0\n",
            "n17   0   0    0   0    0    0   0   0  ...    0    0    0    0    0    0    0    0\n",
            "n25   0   0    0   0    0    0   0   0  ...    0    0    0    0    0    0    0    0\n",
            "n82   0   0    0   0    0    0   0   0  ...    0    0    0    0    0    0    0    0\n",
            "n19   1   0    0   0    0    0   0   0  ...    0    0    0    0    0    0    0    0\n",
            "n78   0   0    0   0    0    0   0   0  ...    0    0    0    0    0    0    0    0\n",
            "n77   0   0    0   0    0    0   0   0  ...    0    0    0    0    0    0    0    0\n",
            "n87   6   0    0   1    0    0   0   0  ...    8    0    4    0    0    0    3    0\n",
            "n20   0   0    0   0    0    0   0   0  ...    0    0    0    0    0    0    0    0\n",
            "n22   0   0    0   3    0    0   0   0  ...    0    0    0    0    0    0    0    0\n",
            "n16   0   0    0   0    0    0   0   0  ...    0    0    0    0    0    0    0    0\n",
            "n28   1   0    0   0    0    0   0   0  ...    0    0    0    0    0    0    0    0\n",
            "n81   0   0    0   0    0    0   0   0  ...    0    0    0    0    0    0    0    0\n",
            "n67   0   0    0   0    0    0   0   0  ...    0    0    0    0    0    0    0    0\n",
            "n38   0   0    0   0    0    0   0   0  ...    0    0    0    0    0    0    0    0\n",
            "n73   0   0    0   0    0    0   0   0  ...    0    0    0    0    0    0    0    0\n",
            "n39   0   0    0   0    0    0   0   0  ...    0    0    0    0    0    0    0    0\n",
            "n59   0   0    0   0    0    0   0   0  ...    0    0    0    0    0    0    0    0\n",
            "n37   0   0    0   0    0    0   0   0  ...    0    0    0    0    0    0    0    0\n",
            "n23   0   0    0   0    0    0   0   0  ...    0    0    0    0    0    0    0    0\n",
            "n33   0   0    0   0    0    0   0   0  ...    0    0    0    0    0    0    0    0\n",
            "n80   0   0    0   0    0    0   0   0  ...    0    0    0    0    0    0    0    0\n",
            "n91   0   0    0   0    0    0   0   0  ...    0    0    0    0    0    0    0    0\n",
            "n36   0   0    0   0    0    0   0   0  ...    0    0    0    0    0    0    0    0\n",
            "\n",
            "[42 rows x 42 columns], 9:       n1  n89  n83  n3  n88  n85  n90  ...  n96  n46  n29  n30  n105  n101  n41\n",
            "n1     0    0    3   0    0    6    0  ...    1    0    0    0     0     0    0\n",
            "n89    0    0    0   0    0    0    0  ...    0    0    0    0     0     0    0\n",
            "n83    0    0    0   0    0    0    0  ...    0    0    0    0     0     0    0\n",
            "n3     1    1    0   0    0   11    1  ...    0    0    0    0     0     0    0\n",
            "n88    0    0    0   0    0    1    0  ...    0    0    0    0     0     0    0\n",
            "n85    4    0    0  11    0    0    0  ...    0    0    0    0     0     0    0\n",
            "n90    0    0    0   0    0    0    0  ...    0    0    0    0     0     0    0\n",
            "n2     0    0    0   0    0    0    0  ...    0    0    0    0     0     0    0\n",
            "n7     0    0    0   0    0    0    0  ...    0    0    0    0     0     0    0\n",
            "n6     0    0    0   0    0    0    0  ...    0    0    0    0     0     0    0\n",
            "n8     2    0    0   1    0    0    0  ...    0    0    0    0     0     0    0\n",
            "n76    0    0    0   1    0    0    0  ...    0    0    0    0     0     0    0\n",
            "n11    0    0    0   0    0    0    0  ...    0    0    0    0     0     0    0\n",
            "n13    0    0    0   0    0    0    0  ...    0    0    0    0     0     0    0\n",
            "n12    0    0    0   1    0    0    0  ...    0    0    6    1     0     0    0\n",
            "n14    0    0    0   0    0    0    0  ...    0    0    0    0     0     0    0\n",
            "n18    0    0    0   0    0    0    0  ...    0    0    0    0     0     0    0\n",
            "n17    0    0    0   0    0    0    0  ...    0    0    0    0     0     0    0\n",
            "n82   10    0    0   0    0    0    0  ...    4   22    0    0     0     0    0\n",
            "n78    0    0    0   0    0    0    0  ...    0    0    0    0     0     0    0\n",
            "n87    4    0    0  25    0    0    0  ...    0    0    0    0     2     0    3\n",
            "n79    0    0    0   0    0    0    0  ...    0    0    0    0     0     1    0\n",
            "n16    0    0    0   0    0    0    0  ...    0    0    0    0     0     0    0\n",
            "n81    0    0    0   0    0    0    0  ...    0    0    0    0     0     0    0\n",
            "n59    0    0    0   0    0    0    0  ...    0    0    0    0     0     0    0\n",
            "n37    0    0    0   0    0    0    0  ...    0    0    0    0     0     0    0\n",
            "n36    0    0    0   0    0    0    0  ...    0    0    0    0     0     0    0\n",
            "n96    0    0    0   0    0    0    0  ...    0    4    0    1     0     0    0\n",
            "n46    0    0    0   0    0    0    0  ...    4    0    0    0     0     0    0\n",
            "n29    0    0    0   0    0    0    0  ...    0    0    0    0     0     0    0\n",
            "n30    0    0    0   0    0    0    0  ...    0    0    0    0     0     0    0\n",
            "n105   0    0    0   0    0    0    0  ...    0    0    0    0     0     0    0\n",
            "n101   0    0    0   0    0    0    0  ...    0    0    0    0     0     0    0\n",
            "n41    0    0    0   0    0    0    0  ...    0    0    0    0     0     0    0\n",
            "\n",
            "[34 rows x 34 columns], 10:       n1  n4  n83  n3  n85  n86  n8  ...  n42  n71  n40  n44  n45  n65  n70\n",
            "n1     0   1    4   3    6    0   7  ...    0    0    0    0    0    0    5\n",
            "n4     0   0    0   0    0    0   0  ...    0    0    0    0    0    0    0\n",
            "n83    1   0    0   0    0    4   0  ...    0    0    0    0    0    0    0\n",
            "n3     2   0    0   0    0    0   0  ...    0    0    0    0    0    0    0\n",
            "n85   11   0    0   0    0    0   0  ...    0    0    0    0    0    0    0\n",
            "n86    0   0    0   0    0    0   0  ...    0    0    0    0    0    0    0\n",
            "n8     1   0    0   0    0    0   0  ...    0    0    0    0    0    0    0\n",
            "n76    7   0    0   0    0    0   0  ...    0    0    0    0    0    0    0\n",
            "n9     0   0    0   0    0    0   0  ...    0    0    0    0    0    0    0\n",
            "n84    0   0    0   0   14    0   0  ...    0    0    0    0    0    0    0\n",
            "n12    0   0    0   0    0    0   0  ...    0    0    0    0    0    0    0\n",
            "n14    0   0    0   0    0    0   0  ...    0    0    0    0    0    0    0\n",
            "n18    0   0    0   0    0    0   0  ...    0    0    0    0    0    0    0\n",
            "n17    0   0    0   0    0    0   0  ...    0    0    0    0    0    0    0\n",
            "n82    3   0    0   0    0    0   0  ...    0    0    0    0    0    0    0\n",
            "n19    0   0    0   0    0    0   0  ...    0    1    0    0    0    0    0\n",
            "n87   14   0    0   0    0    0   0  ...    0    0    1    0    0    0    0\n",
            "n22    0   0    0   0    0    0   0  ...    0    0    0    0    0    0    0\n",
            "n16    0   0    0   0    0    0   0  ...    0    0    0    0    0    0    0\n",
            "n81    0   0    0   0    0    0   0  ...    0    0    0    0    0    0    0\n",
            "n38    0   0    0   0    0    0   0  ...    0    0    0    0    0    0    0\n",
            "n73    0   0    0   0    0    0   0  ...    0    0    0    0    0    0    0\n",
            "n37    1   0    0   0    0    0   0  ...    4    0    0   22    0    0    0\n",
            "n24    0   0    0   0    0    0   0  ...    0    0    0    0    0    0    0\n",
            "n58    0   0    0   0    0    0   0  ...    0    0    0    0    0    0    0\n",
            "n96    0   0    0   0    0    0   0  ...    0    0    0    0    0    0    0\n",
            "n46    0   0    0   0    0    0   0  ...    0    0    0    0    0    0    0\n",
            "n105   0   0    0   0    0    0   0  ...    0    0    0    0    0    0    0\n",
            "n41    0   0    0   0    0    0   0  ...    0    0    0    0    0    0    0\n",
            "n21    0   0    0   0    0    0   0  ...    0    0    0    0    0    0    0\n",
            "n103   0   0    0   0    0    0   0  ...    0    0    0    0    0    0    0\n",
            "n104   0   0    0   0    0    0   0  ...    0    0    0    0    0    0    0\n",
            "n27    0   0    0   0    0    0   0  ...    0    0    0    0    0    0    0\n",
            "n95    0   0    0   0    0    0   0  ...    0    0    0    0    0    0    0\n",
            "n93    0   0    0   0    0    0   0  ...    0    0    0    0    0    0    0\n",
            "n42    0   0    0   0    0    0   0  ...    0    0    0    0    0    0    0\n",
            "n71    0   0    0   0    0    0   0  ...    0    0    0    0    0    0    0\n",
            "n40    0   0    0   0    0    0   0  ...    0    0    0    0    0    0    0\n",
            "n44    0   0    0   0    0    0   0  ...    0    0    0    0    0    0    0\n",
            "n45    0   0    0   0    0    0   0  ...    0    0    0    0    0    0    0\n",
            "n65    0   0    0   0    0    0   0  ...    0    0    0    0    0    0    0\n",
            "n70    0   0    0   0    0    0   0  ...    0    0    0    0    0    0    0\n",
            "\n",
            "[42 rows x 42 columns], 11:       n1  n83  n3  n88  n85  n86  n76  ...  n102  n72  n26  n94  n92  n66  n65\n",
            "n1     0    0   0    0    6    0    5  ...     0    0    0    0    0    0    0\n",
            "n83    0    0   0    0    0    3    0  ...     0    0    0    0    0    0    0\n",
            "n3     0    0   0    0    0    0    0  ...     0    0    0    0    0    0    0\n",
            "n88    0    0   0    0    0    0    0  ...     0    0    0    0    0    0    0\n",
            "n85    3    0   0    0    0    0    4  ...     0    0    0    0    0    0    0\n",
            "n86    0    0   0    0    0    0    0  ...     0    0    0    0    0    0    0\n",
            "n76    7    0   0    1    6    0    0  ...     0    2    0    0    0    0    0\n",
            "n11    1    0   0    0    0    0    0  ...     0    0    0    0    0    0    0\n",
            "n84    1    0   0    0    1    0    0  ...     0    0    0    0    0    0    0\n",
            "n13    0    0   0    0    0    0    0  ...     0    0    0    0    0    0    0\n",
            "n12    0    0   0    0    0    0    0  ...     0    0    2    0    0    4    1\n",
            "n14    0    0   0    0    0    0    0  ...     0    0    0    0    0    0    0\n",
            "n18    0    0   0    0    0    0    0  ...     0    0    0    0    0    0    0\n",
            "n17    0    0   0    0    0    0    0  ...     0    0    0    0    0    0    0\n",
            "n82    1    0   0    0    0    0    0  ...     0    0    0    0    0    0    0\n",
            "n78    0    0   0    0    0    0    0  ...     0    0    0    0    0    0    0\n",
            "n87    2    0   0    0    0    0    2  ...     0    0    0    0    0    0    0\n",
            "n79    0    0   0    0    0    0    0  ...     1    0    0    0    0    0    0\n",
            "n61    0    0   0    0    0    0    0  ...     0    0    0    0    0    0    0\n",
            "n16    0    0   0    0    0    0    0  ...     0    0    0    0    0    0    0\n",
            "n81    0    0   0    0    0    0    0  ...     0    0    0    0    0    0    0\n",
            "n59    0    0   0    0    0    0    0  ...     0    0    0    0    0    0    0\n",
            "n37    0    0   0    0    0    0    0  ...     0    0    0    0    0    0    0\n",
            "n36    0    0   0    0    0    0    0  ...     0    0    0    0    0    0    0\n",
            "n24    0    0   0    0    0    0    0  ...     0    0    0    0    0    0    0\n",
            "n58    0    0   0    0    0    0    0  ...     0    0    0    0    0    0    0\n",
            "n96    0    0   0    0    0    0    0  ...     0    0    0    0    0    0    0\n",
            "n46    0    0   0    0    0    0    0  ...     0    0    0    0    0    0    0\n",
            "n101   0    0   0    0    0    0    0  ...     3    0    0    0    0    0    0\n",
            "n41    0    0   0    0    0    0    0  ...     0    0    0   10   11    0    0\n",
            "n27    0    0   0    0    0    0    0  ...     0    0    0    0    0    0    0\n",
            "n93    0    0   0    0    0    0    0  ...     0    0    0    0    0    0    0\n",
            "n42    0    0   0    0    0    0    0  ...     0    0    0    0    0    0    0\n",
            "n43    0    0   0    0    0    0    0  ...     0    0    0    0    0    0    0\n",
            "n102   0    0   0    0    0    0    0  ...     0    0    0    0    0    0    0\n",
            "n72    0    0   0    0    0    0    0  ...     0    0    0    0    0    0    0\n",
            "n26    0    0   0    0    0    0    0  ...     0    0    0    0    0    0    0\n",
            "n94    0    0   0    0    0    0    0  ...     0    0    0    0    0    0    0\n",
            "n92    0    0   0    0    0    0    0  ...     0    0    0    0    0    0    0\n",
            "n66    0    0   0    0    0    0    0  ...     0    0    0    0    0    0    0\n",
            "n65    0    0   0    0    0    0    0  ...     0    0    0    0    0    0    0\n",
            "\n",
            "[41 rows x 41 columns]}\n"
          ]
        }
      ]
    },
    {
      "cell_type": "markdown",
      "metadata": {
        "id": "3lC6-clCID2B"
      },
      "source": [
        "What is the size of the network at each phase? Plot the evolution of the number of node and number of edges over time, from phase 1 to 11. Provide the number of nodes and edges for the three phases listed below: [2,6,10]"
      ]
    },
    {
      "cell_type": "code",
      "metadata": {
        "colab": {
          "base_uri": "https://localhost:8080/"
        },
        "id": "qvNl0XJgIG-v",
        "outputId": "2e1ca55a-0407-4d73-97bf-35f16480f3b9"
      },
      "source": [
        "for phase in [2,6,10]:\n",
        "    print('Phase', phase)\n",
        "    print('number of nodes = ', len(G[phase].nodes))\n",
        "    print('number of edges = ', len(G[phase].edges))"
      ],
      "execution_count": null,
      "outputs": [
        {
          "output_type": "stream",
          "name": "stdout",
          "text": [
            "Phase 2\n",
            "number of nodes =  24\n",
            "number of edges =  28\n",
            "Phase 6\n",
            "number of nodes =  27\n",
            "number of edges =  47\n",
            "Phase 10\n",
            "number of nodes =  42\n",
            "number of edges =  50\n"
          ]
        }
      ]
    },
    {
      "cell_type": "markdown",
      "metadata": {
        "id": "-fDF-FPuOWrK"
      },
      "source": [
        "Visualizing the graph at each phase. For networkx to use\n",
        "\n",
        "nx.draw(g, pos=nx.drawing.nx_agraph.graphviz_layout(g), with_labels=True)\n",
        "\n",
        "where the graphviz layout algorithm graphviz_layout has been used.\n",
        "\n",
        "The graphviz algorithm is recommended for these complex graphs, and you will need it to answer some of these questions.\n",
        "\n",
        "For macOS and Windows, you can find instructions here. pip install pygraphviz\n",
        "\n",
        "Visualize the graph for Phase 3. Which of the following plots below correspond to Phase 3? (can't install pygraphviz, move .ipynb to colab)"
      ]
    },
    {
      "cell_type": "code",
      "metadata": {
        "colab": {
          "base_uri": "https://localhost:8080/"
        },
        "id": "kkR8Y8bjO1uH",
        "outputId": "37028ddc-b3b7-4cfd-c680-c5c96727c6e2"
      },
      "source": [
        "!apt-get install graphviz graphviz-dev\n",
        "!pip install pygraphviz"
      ],
      "execution_count": null,
      "outputs": [
        {
          "output_type": "stream",
          "name": "stdout",
          "text": [
            "Reading package lists... Done\n",
            "Building dependency tree       \n",
            "Reading state information... Done\n",
            "Note, selecting 'libgraphviz-dev' instead of 'graphviz-dev'\n",
            "graphviz is already the newest version (2.40.1-2).\n",
            "The following additional packages will be installed:\n",
            "  libgail-common libgail18 libgtk2.0-0 libgtk2.0-bin libgtk2.0-common\n",
            "  libgvc6-plugins-gtk libxdot4\n",
            "Suggested packages:\n",
            "  gvfs\n",
            "The following NEW packages will be installed:\n",
            "  libgail-common libgail18 libgraphviz-dev libgtk2.0-0 libgtk2.0-bin\n",
            "  libgtk2.0-common libgvc6-plugins-gtk libxdot4\n",
            "0 upgraded, 8 newly installed, 0 to remove and 37 not upgraded.\n",
            "Need to get 2,120 kB of archives.\n",
            "After this operation, 7,128 kB of additional disk space will be used.\n",
            "Get:1 http://archive.ubuntu.com/ubuntu bionic/main amd64 libgtk2.0-common all 2.24.32-1ubuntu1 [125 kB]\n",
            "Get:2 http://archive.ubuntu.com/ubuntu bionic/main amd64 libgtk2.0-0 amd64 2.24.32-1ubuntu1 [1,769 kB]\n",
            "Get:3 http://archive.ubuntu.com/ubuntu bionic/main amd64 libgail18 amd64 2.24.32-1ubuntu1 [14.2 kB]\n",
            "Get:4 http://archive.ubuntu.com/ubuntu bionic/main amd64 libgail-common amd64 2.24.32-1ubuntu1 [112 kB]\n",
            "Get:5 http://archive.ubuntu.com/ubuntu bionic/universe amd64 libxdot4 amd64 2.40.1-2 [15.7 kB]\n",
            "Get:6 http://archive.ubuntu.com/ubuntu bionic/universe amd64 libgvc6-plugins-gtk amd64 2.40.1-2 [18.2 kB]\n",
            "Get:7 http://archive.ubuntu.com/ubuntu bionic/universe amd64 libgraphviz-dev amd64 2.40.1-2 [57.3 kB]\n",
            "Get:8 http://archive.ubuntu.com/ubuntu bionic/main amd64 libgtk2.0-bin amd64 2.24.32-1ubuntu1 [7,536 B]\n",
            "Fetched 2,120 kB in 0s (16.9 MB/s)\n",
            "Selecting previously unselected package libgtk2.0-common.\n",
            "(Reading database ... 155047 files and directories currently installed.)\n",
            "Preparing to unpack .../0-libgtk2.0-common_2.24.32-1ubuntu1_all.deb ...\n",
            "Unpacking libgtk2.0-common (2.24.32-1ubuntu1) ...\n",
            "Selecting previously unselected package libgtk2.0-0:amd64.\n",
            "Preparing to unpack .../1-libgtk2.0-0_2.24.32-1ubuntu1_amd64.deb ...\n",
            "Unpacking libgtk2.0-0:amd64 (2.24.32-1ubuntu1) ...\n",
            "Selecting previously unselected package libgail18:amd64.\n",
            "Preparing to unpack .../2-libgail18_2.24.32-1ubuntu1_amd64.deb ...\n",
            "Unpacking libgail18:amd64 (2.24.32-1ubuntu1) ...\n",
            "Selecting previously unselected package libgail-common:amd64.\n",
            "Preparing to unpack .../3-libgail-common_2.24.32-1ubuntu1_amd64.deb ...\n",
            "Unpacking libgail-common:amd64 (2.24.32-1ubuntu1) ...\n",
            "Selecting previously unselected package libxdot4.\n",
            "Preparing to unpack .../4-libxdot4_2.40.1-2_amd64.deb ...\n",
            "Unpacking libxdot4 (2.40.1-2) ...\n",
            "Selecting previously unselected package libgvc6-plugins-gtk.\n",
            "Preparing to unpack .../5-libgvc6-plugins-gtk_2.40.1-2_amd64.deb ...\n",
            "Unpacking libgvc6-plugins-gtk (2.40.1-2) ...\n",
            "Selecting previously unselected package libgraphviz-dev.\n",
            "Preparing to unpack .../6-libgraphviz-dev_2.40.1-2_amd64.deb ...\n",
            "Unpacking libgraphviz-dev (2.40.1-2) ...\n",
            "Selecting previously unselected package libgtk2.0-bin.\n",
            "Preparing to unpack .../7-libgtk2.0-bin_2.24.32-1ubuntu1_amd64.deb ...\n",
            "Unpacking libgtk2.0-bin (2.24.32-1ubuntu1) ...\n",
            "Setting up libgtk2.0-common (2.24.32-1ubuntu1) ...\n",
            "Setting up libxdot4 (2.40.1-2) ...\n",
            "Setting up libgtk2.0-0:amd64 (2.24.32-1ubuntu1) ...\n",
            "Setting up libgail18:amd64 (2.24.32-1ubuntu1) ...\n",
            "Setting up libgail-common:amd64 (2.24.32-1ubuntu1) ...\n",
            "Setting up libgvc6-plugins-gtk (2.40.1-2) ...\n",
            "Setting up libgraphviz-dev (2.40.1-2) ...\n",
            "Setting up libgtk2.0-bin (2.24.32-1ubuntu1) ...\n",
            "Processing triggers for man-db (2.8.3-2ubuntu0.1) ...\n",
            "Processing triggers for libc-bin (2.27-3ubuntu1.3) ...\n",
            "/sbin/ldconfig.real: /usr/local/lib/python3.7/dist-packages/ideep4py/lib/libmkldnn.so.0 is not a symbolic link\n",
            "\n",
            "Collecting pygraphviz\n",
            "  Downloading pygraphviz-1.7.zip (118 kB)\n",
            "\u001b[K     |████████████████████████████████| 118 kB 14.4 MB/s \n",
            "\u001b[?25hBuilding wheels for collected packages: pygraphviz\n",
            "  Building wheel for pygraphviz (setup.py) ... \u001b[?25l\u001b[?25hdone\n",
            "  Created wheel for pygraphviz: filename=pygraphviz-1.7-cp37-cp37m-linux_x86_64.whl size=165767 sha256=031b731fcdbc22ccabdd231b808079295b831dade48414f47c183f5ccd5de42c\n",
            "  Stored in directory: /root/.cache/pip/wheels/8c/bc/0c/ac35392b72556e75107ff610cb31b313e8471918a6d280e34c\n",
            "Successfully built pygraphviz\n",
            "Installing collected packages: pygraphviz\n",
            "Successfully installed pygraphviz-1.7\n"
          ]
        }
      ]
    },
    {
      "cell_type": "code",
      "metadata": {
        "colab": {
          "base_uri": "https://localhost:8080/",
          "height": 319
        },
        "id": "wexTS2hoOjBD",
        "outputId": "50966672-b77e-4c80-8f52-4c7026f9200e"
      },
      "source": [
        "nx.draw(G[3], pos=nx.drawing.nx_agraph.graphviz_layout(G[3]), with_labels=True)"
      ],
      "execution_count": null,
      "outputs": [
        {
          "output_type": "display_data",
          "data": {
            "image/png": "[encoded data removed]",
            "text/plain": [
              "<Figure size 432x288 with 1 Axes>"
            ]
          },
          "metadata": {}
        }
      ]
    },
    {
      "cell_type": "markdown",
      "metadata": {
        "id": "EiT_DE64PRrZ"
      },
      "source": [
        "For each of the 11 phases and for each of the players under investigation (i.e., the 23 listed above) , compute and list the normalized degree centrality of the player.\n",
        "\n",
        "The normalized degree centrality of node  is defined as\n",
        "\n",
        " \t\t\t \t \n",
        "where  is the degree of node  and  is the number of nodes in the graph.\n",
        "\n",
        "You can compute the normalized degree centrality using the networkx function networkx.degree_centrality.\n",
        "\n",
        "Provide the degree centrality for the following four players, at the specified phases: (Provide your answer to three significant figures, answer graded to 1% tolerance.)"
      ]
    },
    {
      "cell_type": "code",
      "metadata": {
        "colab": {
          "base_uri": "https://localhost:8080/"
        },
        "id": "ZRDjEAqHPSTH",
        "outputId": "cb0d5ea4-d81c-489b-f1c4-db547124e0c8"
      },
      "source": [
        "# https://networkx.org/documentation/stable/reference/algorithms/generated/networkx.algorithms.centrality.degree_centrality.html#networkx.algorithms.centrality.degree_centrality\n",
        "for phase in [3,9]:\n",
        "    degree_centrality_dict = nx.degree_centrality(G[phase])\n",
        "    print('Phase', phase)\n",
        "    print('n1 degree_centrality', degree_centrality_dict['n1'])\n",
        "    print('n3 degree_centrality', degree_centrality_dict['n3'])\n",
        "    print('n12 degree_centrality', degree_centrality_dict['n12'])\n",
        "    print('n83 degree_centrality', degree_centrality_dict['n83'])"
      ],
      "execution_count": null,
      "outputs": [
        {
          "output_type": "stream",
          "name": "stdout",
          "text": [
            "Phase 3\n",
            "n1 degree_centrality 0.84375\n",
            "n3 degree_centrality 0.28125\n",
            "n12 degree_centrality 0.0625\n",
            "n83 degree_centrality 0.25\n",
            "Phase 9\n",
            "n1 degree_centrality 0.30303030303030304\n",
            "n3 degree_centrality 0.33333333333333337\n",
            "n12 degree_centrality 0.24242424242424243\n",
            "n83 degree_centrality 0.030303030303030304\n"
          ]
        }
      ]
    },
    {
      "cell_type": "markdown",
      "metadata": {
        "id": "YInaCMopQLug"
      },
      "source": [
        "For each of the 11 phases and for each of the players under investigation, compute and list the normalized betweenness centrality of the player.\n",
        "\n",
        "For undirected graphs, the normalized betweenness centrality for node  is defined as\n",
        "\n",
        " \t\t \t \n",
        "where  is the number of shortest paths between  and  that pass through  and  is the total number of shortest paths between  and . Note that this considers both orderings of each pair of nodes, so for undirected graphs, a path counts twice (as it counts both for  and for ).\n",
        "\n",
        "You can compute the normalized betweenness centrality using the networkx function networkx.betweenness_centrality(graph, normalized = True)\n",
        "\n",
        "Provide the normalized betweenness centrality for the following four players, at the specified phases: (Provide your answer to three significant figures, answer graded to 1% tolerance.)"
      ]
    },
    {
      "cell_type": "code",
      "metadata": {
        "colab": {
          "base_uri": "https://localhost:8080/"
        },
        "id": "AT34dlslQMnU",
        "outputId": "5511a2d3-45d4-4623-de1e-2ea36186ec7b"
      },
      "source": [
        "# https://networkx.org/documentation/networkx-1.10/reference/generated/networkx.algorithms.centrality.betweenness_centrality.html\n",
        "for phase in [3,9]:\n",
        "  \n",
        "    betweenness_centrality_dict = nx.betweenness_centrality(G[phase], normalized = True)\n",
        "    print('Phase', phase)\n",
        "    print('n1 betweenness_centrality', betweenness_centrality_dict['n1'])\n",
        "    print('n3 betweenness_centrality', betweenness_centrality_dict['n3'])\n",
        "    print('n12 betweenness_centrality', betweenness_centrality_dict['n12'])\n",
        "    print('n83 betweenness_centrality', betweenness_centrality_dict['n83'])"
      ],
      "execution_count": null,
      "outputs": [
        {
          "output_type": "stream",
          "name": "stdout",
          "text": [
            "Phase 3\n",
            "n1 betweenness_centrality 0.829502688172043\n",
            "n3 betweenness_centrality 0.09549731182795697\n",
            "n12 betweenness_centrality 0.0\n",
            "n83 betweenness_centrality 0.046572580645161295\n",
            "Phase 9\n",
            "n1 betweenness_centrality 0.2490530303030303\n",
            "n3 betweenness_centrality 0.5762310606060607\n",
            "n12 betweenness_centrality 0.3573232323232323\n",
            "n83 betweenness_centrality 0.0\n"
          ]
        }
      ]
    },
    {
      "cell_type": "markdown",
      "metadata": {
        "id": "dCnPLzC9RFqj"
      },
      "source": [
        "For each of the 11 phases and for each of the players under investigation, compute and list the eigenvector centrality of the player.\n",
        "\n",
        "Ensure your eigenvector centrality is normalized as\n",
        "\n",
        " \n",
        "You can compute the eigenvector centrality with this normalization using the networkx function networkx.eigenvector_centrality.\n",
        "\n",
        "Provide the eigenvector centrality for the following four players, at the specified phases: (Provide your answer to three significant figures, answer graded to 1% tolerance.)"
      ]
    },
    {
      "cell_type": "code",
      "metadata": {
        "colab": {
          "base_uri": "https://localhost:8080/"
        },
        "id": "y14GxQIPRHvR",
        "outputId": "0decc29a-003b-4d0d-ae4c-843f66c9752e"
      },
      "source": [
        "# https://networkx.org/documentation/stable/reference/algorithms/generated/networkx.algorithms.centrality.eigenvector_centrality.html#networkx.algorithms.centrality.eigenvector_centrality\n",
        "for phase in [3,9]:\n",
        "    eigenvector_centrality_dict = nx.eigenvector_centrality(G[phase])\n",
        "    print('Phase', phase)\n",
        "    print('n1 eigenvector_centrality', eigenvector_centrality_dict['n1'])\n",
        "    print('n3 eigenvector_centrality', eigenvector_centrality_dict['n3'])\n",
        "    print('n12 eigenvector_centrality', eigenvector_centrality_dict['n12'])\n",
        "    print('n83 eigenvector_centrality', eigenvector_centrality_dict['n83'])"
      ],
      "execution_count": null,
      "outputs": [
        {
          "output_type": "stream",
          "name": "stdout",
          "text": [
            "Phase 3\n",
            "n1 eigenvector_centrality 0.5938791958045414\n",
            "n3 eigenvector_centrality 0.291304887672891\n",
            "n12 eigenvector_centrality 0.1359904690175954\n",
            "n83 eigenvector_centrality 0.27749730090075797\n",
            "Phase 9\n",
            "n1 eigenvector_centrality 0.4589575176167988\n",
            "n3 eigenvector_centrality 0.46798771473230655\n",
            "n12 eigenvector_centrality 0.14065936326685183\n",
            "n83 eigenvector_centrality 0.09178102356758049\n"
          ]
        }
      ]
    },
    {
      "cell_type": "markdown",
      "metadata": {
        "id": "OFAB_YOXRl5N"
      },
      "source": [
        "The mathematical definition of each of these metrics, along with the algorithm that is best suited to compute it and the corresponding time complexity.\n",
        "\n",
        "Which algorithm is the fastest for this data set?\n",
        "\n",
        "- Degree centrality\n",
        "- Betweenness centrality\n",
        "- Eigenvector centrality\n",
        "\n",
        "Ans - Degree centrality as it has higher values than the rest."
      ]
    },
    {
      "cell_type": "markdown",
      "metadata": {
        "id": "YVLJ71uPRnZ1"
      },
      "source": [
        "The data from questions 1 to 3 can be used to perform different types of quantitative analyses. In this question we will look at performing one such analysis - we will determine the temporal consistency of a player's centrality , i.e. which players consistently remained active and central throughout most of the phases and which didn't?\n",
        "\n",
        "To answer this question, look at the temporal evolution of the networks and calculate the mean centrality for each of the centrality metrics, across all phases, for every player.\n",
        "\n",
        "Note: As every actor might not be present in every phase, attach a centrality of zero (0) to an actor for the phases in which they are not present, before calculating these statistics, so that you take a mean over all 11 phases for all actors. (Food for thought , not graded: What are the implications of this step? What else could you do to ensure that your numbers are comparable with each other?)\n",
        "\n",
        "For the betweenness centrality, which three players have the highest mean? (Enter an integer, eg: 1 for n1, 2 for n2, etc.)"
      ]
    },
    {
      "cell_type": "code",
      "metadata": {
        "id": "k79tAj-FSCPv"
      },
      "source": [
        "allphase_eigenvector = pd.DataFrame(np.zeros((110, 11)))\n",
        "allphase_eigenvector.index = np.char.add('n', np.arange(1,111).astype(str))\n",
        "allphase_eigenvector.columns = np.char.add('phase', np.arange(1,12).astype(str))\n",
        "\n",
        "allphase_betweenness = pd.DataFrame(np.zeros((110, 11)))\n",
        "allphase_betweenness.index = np.char.add('n', np.arange(1,111).astype(str))\n",
        "allphase_betweenness.columns = np.char.add('phase', np.arange(1,12).astype(str))\n",
        "\n",
        "\n",
        "for phase in np.arange(1,12):\n",
        "  \n",
        "    eigenvector_centrality_dict = nx.eigenvector_centrality(G[phase])\n",
        "    betweenness_centrality_dict = nx.betweenness_centrality(G[phase], normalized = True)\n",
        "\n",
        "    for k_e,v_e in eigenvector_centrality_dict.items():\n",
        "        allphase_eigenvector[f'phase{phase}'][k_e] = v_e\n",
        "\n",
        "    for k_b,v_b in betweenness_centrality_dict.items():\n",
        "        allphase_betweenness[f'phase{phase}'][k_b] = v_b"
      ],
      "execution_count": null,
      "outputs": []
    },
    {
      "cell_type": "code",
      "metadata": {
        "colab": {
          "base_uri": "https://localhost:8080/"
        },
        "id": "qPOKhGiASGa9",
        "outputId": "7e13f3b8-d8f3-4991-dff9-382e711b0eb3"
      },
      "source": [
        "print('n1 eigenvector_centrality', np.mean(allphase_eigenvector, axis=1).sort_values(ascending=False).head())\n",
        "print('n1 betweenness_centrality', np.mean(allphase_betweenness, axis=1).sort_values(ascending=False).head())"
      ],
      "execution_count": null,
      "outputs": [
        {
          "output_type": "stream",
          "name": "stdout",
          "text": [
            "n1 eigenvector_centrality n1     0.546391\n",
            "n3     0.298095\n",
            "n85    0.190612\n",
            "n76    0.165877\n",
            "n83    0.153522\n",
            "dtype: float64\n",
            "n1 betweenness_centrality n1     0.655051\n",
            "n12    0.167562\n",
            "n3     0.129403\n",
            "n76    0.083791\n",
            "n87    0.061327\n",
            "dtype: float64\n"
          ]
        }
      ]
    },
    {
      "cell_type": "markdown",
      "metadata": {
        "id": "7kEX-vSOTGqz"
      },
      "source": [
        "Now, we will attempt to analyze the overall evolution of the network and correlate the patterns we observe to events that happened during the investigation.\n",
        "\n",
        "The plots below visualizes the criminal network for 2 consecutive phases Phase X and X+1. Identify X using your visualization in Part (a) Question 2."
      ]
    },
    {
      "cell_type": "code",
      "metadata": {
        "id": "Ri2sARq7THf2"
      },
      "source": [
        ""
      ],
      "execution_count": null,
      "outputs": []
    }
  ]
}